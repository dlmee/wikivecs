{
 "cells": [
  {
   "cell_type": "code",
   "execution_count": 12,
   "id": "a5d2c53c-0324-470f-a652-4fbc2bca8d6d",
   "metadata": {},
   "outputs": [],
   "source": [
    "import psycopg2\n",
    "from psycopg2 import sql\n",
    "\n",
    "# Database connection settings\n",
    "db_settings = {\n",
    "    'dbname': 'wikiknowledge',\n",
    "    'user': 'ocelot',\n",
    "    'password': 'odinson',\n",
    "    'host': 'localhost'\n",
    "}\n",
    "\n",
    "def get_vector_by_document(conn, document_name: str):\n",
    "    \"\"\"Retrieve the vector from the PostgreSQL database using the document name.\"\"\"\n",
    "    with conn.cursor() as cur:\n",
    "        try:\n",
    "            cur.execute(sql.SQL(\"SELECT reduced_embedding FROM my_vectors_reduced WHERE document = %s\"), [document_name])\n",
    "            result = cur.fetchone()\n",
    "            if result:\n",
    "                return result[0]\n",
    "            else:\n",
    "                print(f\"No vector found for document: {document_name}\")\n",
    "                conn.rollback()  # Rollback if no document is found\n",
    "                return None\n",
    "        except Exception as e:\n",
    "            print(f\"Error querying for document '{document_name}': {e}\")\n",
    "            conn.rollback()\n",
    "            return None\n",
    "\n",
    "def query_db(conn, query_vector):\n",
    "    \"\"\"Query the PostgreSQL database for the nearest neighbors using the given vector.\"\"\"\n",
    "    with conn.cursor() as cur:\n",
    "        try:\n",
    "            cur.execute(sql.SQL(\"\"\"\n",
    "                SELECT document, (reduced_embedding <-> %s) AS distance\n",
    "                FROM my_vectors_reduced\n",
    "                ORDER BY distance ASC\n",
    "                LIMIT 20\n",
    "            \"\"\"), [query_vector])\n",
    "            results = cur.fetchall()\n",
    "            return results\n",
    "        except Exception as e:\n",
    "            print(f\"Error querying database: {e}\")\n",
    "            conn.rollback()\n",
    "            return []\n",
    "\n",
    "# Connect to PostgreSQL\n",
    "conn = psycopg2.connect(**db_settings)\n"
   ]
  },
  {
   "cell_type": "code",
   "execution_count": 13,
   "id": "768c8446-7dee-4fde-8a29-7af518aaf9fb",
   "metadata": {},
   "outputs": [
    {
     "name": "stdout",
     "output_type": "stream",
     "text": [
      "We have the query vector\n",
      "Query results for document 'Anthony Wayne':\n",
      "Document: Anthony Wayne, Distance: 0.0\n",
      "Document: Francis Marion, Distance: 0.6210231860880239\n",
      "Document: Jeffery Amherst, 1st Baron Amherst, Distance: 0.6356060860969648\n",
      "Document: Casimir Pulaski, Distance: 0.6564066563681961\n",
      "Document: Winfield Scott, Distance: 0.6852709440407648\n",
      "Document: Redlining, Distance: 0.7123884967088341\n",
      "Document: Turion X2 Ultra, Distance: 0.7150777631767272\n",
      "Document: IBM PS/2 Note, Distance: 0.7156248567406124\n",
      "Document: Generali Arena (Vienna), Distance: 0.7175636867343594\n",
      "Document: Cati, Distance: 0.7216879053125443\n",
      "Document: Martin Hristov, Distance: 0.7234277679250143\n",
      "Document: Lanzhou class destroyer, Distance: 0.7263470402031591\n",
      "Document: FCW, Distance: 0.7265556089012923\n",
      "Document: Buick, Distance: 0.7274725352343301\n",
      "Document: Gujarati-language, Distance: 0.7279091117945765\n",
      "Document: 6062 Vespa, Distance: 0.7280715939168915\n",
      "Document: Ford Ecoboost engine, Distance: 0.7282885486471946\n",
      "Document: Mobile Pentium 4, Distance: 0.7287382956557847\n",
      "Document: 2011 Primera División de México Apertura Liguilla Final, Distance: 0.728869068632556\n",
      "Document: Lādol, Distance: 0.72981044868899\n"
     ]
    }
   ],
   "source": [
    "# Document name to search\n",
    "document_name = \"Anthony Wayne\"\n",
    "\n",
    "# Get the vector from the database\n",
    "query_vector = get_vector_by_document(conn, document_name)\n",
    "print(\"We have the query vector\")\n",
    "\n",
    "if query_vector:\n",
    "    # Query the database using the vector\n",
    "    results = query_db(conn, query_vector)\n",
    "    \n",
    "    print(f\"Query results for document '{document_name}':\")\n",
    "    for document, distance in results:\n",
    "        print(f\"Document: {document}, Distance: {distance}\")\n"
   ]
  },
  {
   "cell_type": "code",
   "execution_count": 4,
   "id": "9301421e-7941-4739-95fc-7bcadbc7d24f",
   "metadata": {},
   "outputs": [],
   "source": [
    "conn.close()"
   ]
  },
  {
   "cell_type": "code",
   "execution_count": null,
   "id": "904250ce-8892-4d11-9a6e-50ea6c320cb2",
   "metadata": {},
   "outputs": [],
   "source": []
  }
 ],
 "metadata": {
  "kernelspec": {
   "display_name": "Python 3 (ipykernel)",
   "language": "python",
   "name": "python3"
  },
  "language_info": {
   "codemirror_mode": {
    "name": "ipython",
    "version": 3
   },
   "file_extension": ".py",
   "mimetype": "text/x-python",
   "name": "python",
   "nbconvert_exporter": "python",
   "pygments_lexer": "ipython3",
   "version": "3.12.3"
  }
 },
 "nbformat": 4,
 "nbformat_minor": 5
}
